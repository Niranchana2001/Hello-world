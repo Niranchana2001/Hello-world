{
  "nbformat": 4,
  "nbformat_minor": 0,
  "metadata": {
    "colab": {
      "name": "envy.ipynb",
      "provenance": [],
      "authorship_tag": "ABX9TyPvuDZGVaJ1dT21CX2Nkc4L",
      "include_colab_link": true
    },
    "kernelspec": {
      "name": "python3",
      "display_name": "Python 3"
    },
    "language_info": {
      "name": "python"
    }
  },
  "cells": [
    {
      "cell_type": "markdown",
      "metadata": {
        "id": "view-in-github",
        "colab_type": "text"
      },
      "source": [
        "<a href=\"https://colab.research.google.com/github/Niranchana2001/Hello-world/blob/master/envy.ipynb\" target=\"_parent\"><img src=\"https://colab.research.google.com/assets/colab-badge.svg\" alt=\"Open In Colab\"/></a>"
      ]
    },
    {
      "cell_type": "code",
      "metadata": {
        "colab": {
          "base_uri": "https://localhost:8080/"
        },
        "id": "9syqEM52TDrw",
        "outputId": "76688d00-620d-413b-98b6-90aa7a4b6707"
      },
      "source": [
        "import requests\n",
        "\n",
        "from datetime import datetime\n",
        "\n",
        "api_key = '03dafc6b6d26b9735ccac64659031c40'\n",
        "location = input(\"Enter the city name: \")\n",
        "\n",
        "complete_api_link = \"https://api.openweathermap.org/data/2.5/weather?q=\"+location+\"&appid=\"+api_key\n",
        "api_link = requests.get(complete_api_link)\n",
        "api_data = api_link.json()\n",
        "\n",
        "temp_city = (api_data['main']['temp']) -273.15\n",
        "weather_desc = api_data['weather'][0]['description']\n",
        "hmdt = api_data['main']['humidity']\n",
        "wind_spd = api_data['wind']['speed']\n",
        "date_time = datetime.now().strftime(\"%d %b %Y | %I:%M:%S %p\")\n",
        "\n",
        "print(\"-------------------------------------------------------------------\")\n",
        "print(\"Weather Stats for - {}  || {}\".format(location.upper(), date_time))\n",
        "print(\"-------------------------------------------------------------------\")\n",
        "\n",
        "print(\"Current temperature is: {:.2f} deg C\".format(temp_city))\n",
        "print(\"Current weather desc  :\",weather_desc)\n",
        "print(\"Current Humidity      :\",hmdt, '%')\n",
        "print(\"Current wind speed    :\",wind_spd ,'kmph')"
      ],
      "execution_count": 19,
      "outputs": [
        {
          "output_type": "stream",
          "text": [
            "Enter the city name: chennai\n",
            "-------------------------------------------------------------------\n",
            "Weather Stats for - CHENNAI  || 23 Jun 2021 | 11:03:39 AM\n",
            "-------------------------------------------------------------------\n",
            "Current temperature is: 31.65 deg C\n",
            "Current weather desc  : haze\n",
            "Current Humidity      : 78 %\n",
            "Current wind speed    : 3.13 kmph\n"
          ],
          "name": "stdout"
        }
      ]
    }
  ]
}